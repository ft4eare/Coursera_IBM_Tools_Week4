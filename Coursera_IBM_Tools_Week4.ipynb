{
 "cells": [
  {
   "cell_type": "markdown",
   "id": "c362ba6f",
   "metadata": {},
   "source": [
    "# My Jupyter Notebook on IBM Watson Studio"
   ]
  },
  {
   "cell_type": "markdown",
   "id": "01d60d10",
   "metadata": {},
   "source": [
    "**Name: Eric Reda**\n",
    "<br>\n",
    "Desired Role: Data Analyst"
   ]
  },
  {
   "cell_type": "markdown",
   "id": "72a20c51",
   "metadata": {},
   "source": [
    "*I'm interested in data science becuase I want to build upon skills developed through my Master's Degree. I also want to change careers!*"
   ]
  },
  {
   "cell_type": "markdown",
   "id": "a784a4d6",
   "metadata": {},
   "source": [
    "### The below code stores the sum of two integers in a variable and prints the output"
   ]
  },
  {
   "cell_type": "code",
   "execution_count": 12,
   "id": "46d84c64",
   "metadata": {},
   "outputs": [
    {
     "name": "stdout",
     "output_type": "stream",
     "text": [
      "2\n"
     ]
    }
   ],
   "source": [
    "x = 1 + 1\n",
    "print(x)"
   ]
  },
  {
   "cell_type": "markdown",
   "id": "548e067d",
   "metadata": {},
   "source": [
    "<a href=\"https://www.google.com\" >Link to Google</a>\n",
    "\n",
    "<ol>\n",
    "    <li>First item</li>\n",
    "    <li>Second item</li>\n",
    "    <li>Third item</li>\n",
    "</ol>\n",
    "\n",
    "<ul>\n",
    "    <li>One bullet</li>\n",
    "    <li>Two bullets</li>\n",
    "    <li>Three bullets</li>\n",
    "</ul>"
   ]
  }
 ],
 "metadata": {
  "kernelspec": {
   "display_name": "Python 3",
   "language": "python",
   "name": "python3"
  },
  "language_info": {
   "codemirror_mode": {
    "name": "ipython",
    "version": 3
   },
   "file_extension": ".py",
   "mimetype": "text/x-python",
   "name": "python",
   "nbconvert_exporter": "python",
   "pygments_lexer": "ipython3",
   "version": "3.8.8"
  }
 },
 "nbformat": 4,
 "nbformat_minor": 5
}
